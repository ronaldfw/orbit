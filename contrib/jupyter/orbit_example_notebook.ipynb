{
 "cells": [
  {
   "cell_type": "markdown",
   "id": "divine-turkish",
   "metadata": {},
   "source": [
    "<!---\n",
    "Copyright (c) 2020 The Orbit Authors. All rights reserved. \n",
    "Use of this source code is governed by a BSD-style license that can be \n",
    "found in the LICENSE file.\n",
    "-->\n",
    "\n",
    "# Example Jupyter notebook for analyzing Orbit capture data\n",
    "\n",
    "This is a brief example notebook that shows how Jupyter notebooks can be used to load Orbit capture data. This is only for testing setup. If you can run the cells in this notebook successfully, the setup should be complete."
   ]
  },
  {
   "cell_type": "code",
   "execution_count": null,
   "id": "brilliant-funeral",
   "metadata": {},
   "outputs": [],
   "source": [
    "# Read the file and open the capture by creating an OrbitCapture instance.\n",
    "from orbitutils.orbit_capture import OrbitCapture\n",
    "\n",
    "file_content = open(\"./orbitutils/testdata/OrbitTest_capture.orbit\", \"rb\").read()\n",
    "capture = OrbitCapture(file_content)\n",
    "\n",
    "print(\"Capture successfully opened and read!\")\n",
    "\n",
    "# We compute min/max times of the capture and print the number of timer infos read to \n",
    "# check if reading the capture was indeed successful\n",
    "min_time_ns = capture.compute_min_time_ns()\n",
    "max_time_ns = capture.compute_max_time_ns()\n",
    "\n",
    "def nanos_to_ms(time_ns):\n",
    "    return time_ns / 1000000.0\n",
    "\n",
    "print(\"Capture length (ms): \" + str(nanos_to_ms(max_time_ns - min_time_ns)))\n",
    "print(\"Number of timer infos: \" + str(len(capture.timer_infos)))"
   ]
  }
 ],
 "metadata": {
  "kernelspec": {
   "display_name": "Python 3",
   "language": "python",
   "name": "python3"
  },
  "language_info": {
   "codemirror_mode": {
    "name": "ipython",
    "version": 3
   },
   "file_extension": ".py",
   "mimetype": "text/x-python",
   "name": "python",
   "nbconvert_exporter": "python",
   "pygments_lexer": "ipython3",
   "version": "3.9.0-final"
  }
 },
 "nbformat": 4,
 "nbformat_minor": 5
}